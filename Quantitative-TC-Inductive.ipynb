{
 "cells": [
  {
   "cell_type": "code",
   "execution_count": 1,
   "metadata": {},
   "outputs": [],
   "source": [
    "import numpy as np\n",
    "import pandas as pd\n",
    "import matplotlib.pyplot as plt"
   ]
  },
  {
   "cell_type": "code",
   "execution_count": 2,
   "metadata": {},
   "outputs": [],
   "source": [
    "# load entity2id\n",
    "entity2id = {}\n",
    "with open(\"data/Freebase/FB15k/entity2id.txt\", 'r', encoding='utf-8') as f:\n",
    "    lines = f.readlines()\n",
    "for line in lines:\n",
    "    e, idx = line.strip().split('\\t')\n",
    "    entity2id[e] = int(idx)"
   ]
  },
  {
   "cell_type": "code",
   "execution_count": 3,
   "metadata": {},
   "outputs": [],
   "source": [
    "# load relation2id\n",
    "relation2id = {}\n",
    "with open(\"data/Freebase/FB15k/relation2id.txt\", 'r', encoding='utf-8') as f:\n",
    "    lines = f.readlines()\n",
    "for line in lines:\n",
    "    r, idx = line.strip().split('\\t')\n",
    "    relation2id[r] = int(idx)"
   ]
  },
  {
   "cell_type": "code",
   "execution_count": 4,
   "metadata": {},
   "outputs": [],
   "source": [
    "# load type2id\n",
    "type2id = {}\n",
    "with open(\"data/Freebase/FB15kET/type2id.txt\", 'r', encoding='utf-8') as f:\n",
    "    lines = f.readlines()\n",
    "for line in lines:\n",
    "    t, idx = line.strip().split('\\t')\n",
    "    type2id[t] = int(idx)"
   ]
  },
  {
   "cell_type": "code",
   "execution_count": 5,
   "metadata": {},
   "outputs": [],
   "source": [
    "# load test set of FB15kET-I\n",
    "test_e2t = {}\n",
    "pair_test =0\n",
    "with open(\"data/Freebase/FB15kET/FB15k_Entity_Type_test_clean.txt\", 'r') as f:\n",
    "    for line in f.readlines():\n",
    "        pair_test+=1\n",
    "        h, t = line.strip().split(\"\\t\")\n",
    "        if entity2id[h] not in test_e2t:\n",
    "            test_e2t[entity2id[h]] = []\n",
    "        test_e2t[entity2id[h]].append(type2id[t])"
   ]
  },
  {
   "cell_type": "code",
   "execution_count": 6,
   "metadata": {},
   "outputs": [],
   "source": [
    "# load validation set of FB15kET-I\n",
    "dev_e2t = {}\n",
    "with open(\"data/Freebase/FB15kET/FB15k_Entity_Type_valid_clean.txt\", 'r') as f:\n",
    "    for line in f.readlines():\n",
    "        h, t = line.strip().split(\"\\t\")\n",
    "        if entity2id[h] in test_e2t:                 # move ETIs whose entity exist in test set\n",
    "            test_e2t[entity2id[h]].append(type2id[t])\n",
    "        else:\n",
    "            if entity2id[h] not in dev_e2t:\n",
    "                dev_e2t[entity2id[h]] = []\n",
    "            if type2id[t] not in dev_e2t[entity2id[h]]:\n",
    "                dev_e2t[entity2id[h]].append(type2id[t])"
   ]
  },
  {
   "cell_type": "code",
   "execution_count": 7,
   "metadata": {},
   "outputs": [],
   "source": [
    "# load validation set of FB15kET-I\n",
    "train_e2t = {}\n",
    "with open(\"data/Freebase/FB15kET/FB15k_Entity_Type_train.txt\", 'r') as f:\n",
    "    for line in f.readlines():\n",
    "        h, t = line.strip().split(\"\\t\")\n",
    "        if entity2id[h] in test_e2t:            # move ETIs whose entity exist in test set\n",
    "            test_e2t[entity2id[h]].append(type2id[t])\n",
    "        elif entity2id[h] in dev_e2t:           # move ETIs whose entity exist in validation set\n",
    "            dev_e2t[entity2id[h]].append(type2id[t])\n",
    "        else:\n",
    "            if entity2id[h] not in train_e2t:\n",
    "                train_e2t[entity2id[h]] = []\n",
    "            if type2id[t] not in train_e2t[entity2id[h]]:\n",
    "                train_e2t[entity2id[h]].append(type2id[t])"
   ]
  },
  {
   "cell_type": "code",
   "execution_count": 8,
   "metadata": {},
   "outputs": [],
   "source": [
    "# load training set of FB15k\n",
    "train_triplet = []\n",
    "with open('data/Freebase/FB15k/freebase_mtr100_mte100-train.txt', 'r') as f:\n",
    "    for line in f.readlines():\n",
    "        h, l, t = line.strip().split(\"\\t\")\n",
    "        train_triplet.append((entity2id[h],relation2id[l],entity2id[t]))"
   ]
  },
  {
   "cell_type": "code",
   "execution_count": 9,
   "metadata": {},
   "outputs": [
    {
     "name": "stdout",
     "output_type": "stream",
     "text": [
      "prior: 23440 expansion: 37070 evaluation: 136839\n"
     ]
    }
   ],
   "source": [
    "# extract triples from FB15k\n",
    "entity_degree = np.zeros(len(entity2id))    #for filting entities\n",
    "prior_num = 0\n",
    "expansion_num = 0\n",
    "evaluation_num = 0\n",
    "prior_triple =[]\n",
    "expansion_triple = {}\n",
    "evaluation_triple = {}\n",
    "for triple in train_triplet:\n",
    "    h, r, t = triple\n",
    "    if h in train_e2t or t in train_e2t:\n",
    "        entity_degree[h] += 1\n",
    "        entity_degree[t] += 1\n",
    "        \n",
    "        if h in train_e2t and t in train_e2t:\n",
    "            prior_triple.append(triple)\n",
    "            prior_num+=1\n",
    "    \n",
    "        if h in train_e2t and t in dev_e2t:\n",
    "            if t not in expansion_triple:\n",
    "                expansion_triple[t] = []\n",
    "            expansion_triple[t].append(triple)\n",
    "            expansion_num += 1\n",
    "        if t in train_e2t and h in dev_e2t:\n",
    "            if h not in expansion_triple:\n",
    "                expansion_triple[h] = []\n",
    "            expansion_num += 1\n",
    "            expansion_triple[h].append(triple)\n",
    "\n",
    "\n",
    "        if h in train_e2t and t in test_e2t:\n",
    "            if t not in evaluation_triple:\n",
    "                evaluation_triple[t] = []\n",
    "            evaluation_num += 1\n",
    "            evaluation_triple[t].append(triple)\n",
    "        if t in train_e2t and h in test_e2t:\n",
    "            if h not in evaluation_triple:\n",
    "                evaluation_triple[h] = []\n",
    "            evaluation_num += 1\n",
    "            evaluation_triple[h].append(triple)\n",
    "print(\"prior:\",prior_num,\"expansion:\",expansion_num,\"evaluation:\",evaluation_num)"
   ]
  },
  {
   "cell_type": "code",
   "execution_count": 10,
   "metadata": {},
   "outputs": [],
   "source": [
    "# filt entities will not connect with prior\n",
    "for entity in entity2id:\n",
    "    entity_ = entity2id[entity]\n",
    "    if entity_degree[entity_]==0:\n",
    "        if entity_ in dev_e2t:\n",
    "            dev_e2t.pop(entity_)\n",
    "        if entity_ in test_e2t:\n",
    "            test_e2t.pop(entity_)"
   ]
  },
  {
   "cell_type": "code",
   "execution_count": 11,
   "metadata": {},
   "outputs": [
    {
     "name": "stdout",
     "output_type": "stream",
     "text": [
      "num of entities of FB15kET-I prior set:  3436\n",
      "num of entities of FB15kET-I expansion set:  2514\n",
      "num of entities of FB15kET-I evaluation set:  7983\n"
     ]
    }
   ],
   "source": [
    "print(\"num of entities of FB15kET-I prior set: \", len(train_e2t))\n",
    "print(\"num of entities of FB15kET-I expansion set: \",len(dev_e2t))\n",
    "print(\"num of entities of FB15kET-I evaluation set: \",len(test_e2t))"
   ]
  },
  {
   "cell_type": "code",
   "execution_count": 12,
   "metadata": {},
   "outputs": [
    {
     "name": "stdout",
     "output_type": "stream",
     "text": [
      "num of pairs of FB15kET-I prior set:  17829\n",
      "num of pairs of FB15kET-I expansion set:  24356\n",
      "num of pairs of FB15kET-I evaluation set:  118231\n"
     ]
    }
   ],
   "source": [
    "ETIs_num =0\n",
    "for entity_ in train_e2t:\n",
    "    ETIs_num += len(train_e2t[entity_])\n",
    "print(\"num of pairs of FB15kET-I prior set: \", ETIs_num)\n",
    "    \n",
    "ETIs_num =0\n",
    "for entity_ in dev_e2t:\n",
    "    ETIs_num += len(dev_e2t[entity_])\n",
    "print(\"num of pairs of FB15kET-I expansion set: \", ETIs_num)\n",
    "    \n",
    "ETIs_num =0\n",
    "for entity_ in test_e2t:\n",
    "    ETIs_num += len(test_e2t[entity_])\n",
    "print(\"num of pairs of FB15kET-I evaluation set: \", ETIs_num)"
   ]
  },
  {
   "cell_type": "code",
   "execution_count": 13,
   "metadata": {},
   "outputs": [],
   "source": [
    "p_h = {}\n",
    "p_t = {}\n",
    "\n",
    "for triple in prior_triple:\n",
    "    h, r, t = triple\n",
    "    for type_h in train_e2t[h]:\n",
    "        for type_t in train_e2t[t]:\n",
    "            if (type_h, r) not in p_h:\n",
    "                p_h[(type_h, r)] = {}\n",
    "            if type_t not in p_h[(type_h, r)]:\n",
    "                p_h[(type_h, r)][type_t] = 1\n",
    "            else:\n",
    "                p_h[(type_h, r)][type_t] += 1\n",
    "\n",
    "            if (r, type_t) not in p_t:\n",
    "                p_t[(r, type_t)] = {}\n",
    "            if type_h not in p_t[(r, type_t)]:\n",
    "                p_t[(r, type_t)][type_h] = 1\n",
    "            else:\n",
    "                p_t[(r, type_t)][type_h] += 1"
   ]
  },
  {
   "cell_type": "code",
   "execution_count": 14,
   "metadata": {},
   "outputs": [],
   "source": [
    "h_count = {}\n",
    "t_count = {}\n",
    "for h_r in p_h:\n",
    "    type_h, r = h_r\n",
    "    count = sum(list(p_h[h_r].values()))\n",
    "    h_count[h_r] = count\n",
    "    p_h[h_r] = pd.DataFrame(list(p_h[h_r].values()),index=p_h[h_r].keys())\n",
    "\n",
    "for r_t in p_t:\n",
    "    r, type_t = r_t\n",
    "    count = sum(list(p_t[r_t].values()))\n",
    "    t_count[r_t] = count\n",
    "    p_t[r_t] = pd.DataFrame(list(p_t[r_t].values()),index=p_t[r_t].keys())"
   ]
  },
  {
   "cell_type": "code",
   "execution_count": 15,
   "metadata": {},
   "outputs": [],
   "source": [
    "def evaluation(entity2type):\n",
    "    mr = mrr = hit10 = hit3 =hit1 = 0\n",
    "    fmr = fmrr = fhit10 = fhit3 = fhit1 = 0\n",
    "    for entity_ in test_e2t:\n",
    "        type_arg = np.argsort(-entity2type[entity_])\n",
    "        test_rank_list = []\n",
    "        train_rank_list = []\n",
    "        valid_rank_list = []\n",
    "        if entity_ in test_e2t:\n",
    "            for type_label in test_e2t[entity_]:\n",
    "                rank = (type_arg==type_label).nonzero()[0].item()+1\n",
    "                test_rank_list.append(rank)\n",
    "        if entity_ in dev_e2t:\n",
    "            for type_label in dev_e2t[entity_]:\n",
    "                rank = (type_arg==type_label).nonzero()[0].item()+1\n",
    "                valid_rank_list.append(rank)\n",
    "        if entity_ in train_e2t:\n",
    "            for type_label in train_e2t[entity_]:\n",
    "                rank = (type_arg==type_label).nonzero()[0].item()+1\n",
    "                train_rank_list.append(rank)\n",
    "        rank_list = train_rank_list + test_rank_list + valid_rank_list\n",
    "        rank_list.sort()\n",
    "        \n",
    "        for i, rank in enumerate(test_rank_list):\n",
    "            #rank is ’raw‘ rank\n",
    "            #raw-index is the rank of all correct\n",
    "            #rank - raw_index is filt rank\n",
    "            raw_index = rank_list.index(rank)\n",
    "            frank = rank - raw_index\n",
    "\n",
    "            #if rank == raw_index  frank shoud be 1\n",
    "            if frank == 0:\n",
    "                frank = 1\n",
    "\n",
    "            fmr += frank\n",
    "            fmrr += 1.0/frank\n",
    "            if frank <=10:\n",
    "                fhit10 += 1\n",
    "            if frank <=3:\n",
    "                fhit3 += 1\n",
    "            if frank <= 1:\n",
    "                fhit1 += 1\n",
    "    \n",
    "    num_of_e2t = 0\n",
    "    for i in test_e2t:\n",
    "        num_of_e2t += len(test_e2t[i])\n",
    "        \n",
    "    return fmrr/num_of_e2t, fhit1/num_of_e2t, fhit3/num_of_e2t, fhit10/num_of_e2t"
   ]
  },
  {
   "cell_type": "code",
   "execution_count": 16,
   "metadata": {
    "scrolled": true
   },
   "outputs": [],
   "source": [
    "def aggrate_and_evaluation():\n",
    "    entity2type = np.zeros((len(entity2id), len(type2id)))\n",
    "    for i, triplet in enumerate(train_triplet):\n",
    "        h, r, t = triplet\n",
    "        \n",
    "        if h in train_e2t:\n",
    "            normalize_h = len(train_e2t[h])\n",
    "            for type_h in train_e2t[h]:\n",
    "                if (type_h, r) in p_h:\n",
    "                    df = p_h[(type_h, r)]\n",
    "                    t_key = list(df.index)\n",
    "                    t_value = df.values.reshape(-1)\n",
    "                    entity2type[t][t_key] += t_value/h_count[(type_h, r)]/normalize_h\n",
    "\n",
    "        if t in train_e2t:\n",
    "            normalize_t = len(train_e2t[t])\n",
    "            for type_t in train_e2t[t]:\n",
    "                if (r, type_t) in p_t:\n",
    "                    df = p_t[(r, type_t)]\n",
    "                    h_key = list(df.index)\n",
    "                    h_value = df.values.reshape(-1)\n",
    "                    entity2type[h][h_key] += h_value/t_count[(r, type_t)]/normalize_t\n",
    "    test_evaluation = evaluation(entity2type)\n",
    "    return test_evaluation"
   ]
  },
  {
   "cell_type": "code",
   "execution_count": 17,
   "metadata": {},
   "outputs": [
    {
     "name": "stdout",
     "output_type": "stream",
     "text": [
      "add 0 entities, results： (0.44649724283600656, 0.3620793192986611, 0.48155729038915346, 0.6195075741556783)\n",
      "add 100 entities, results： (0.45540602751832515, 0.3696577039862642, 0.49237509620996184, 0.6299786012128799)\n",
      "add 200 entities, results： (0.45621864235418863, 0.36931092522265735, 0.49459955510822035, 0.6322960983160085)\n",
      "add 300 entities, results： (0.46037918973505293, 0.37275333880285205, 0.4987355262156287, 0.6388848948245384)\n",
      "add 400 entities, results： (0.4632529709246968, 0.37520616420397357, 0.5017042907528483, 0.6434691409190483)\n",
      "add 500 entities, results： (0.46451955595847844, 0.37580668352631713, 0.5039118336138576, 0.6471483790207306)\n",
      "add 600 entities, results： (0.46795129307987593, 0.3793675093672556, 0.505967132139625, 0.6509037392900339)\n",
      "add 700 entities, results： (0.46996174157507886, 0.3812198154460336, 0.5072442929519331, 0.6538978778831271)\n",
      "add 800 entities, results： (0.47106968229114804, 0.3824800602210926, 0.5080562627398906, 0.6551242905836878)\n",
      "add 900 entities, results： (0.47226886156214265, 0.38335969415804655, 0.5093672556266969, 0.6574502457054411)\n",
      "add 1000 entities, results： (0.47331114094667753, 0.383427358307043, 0.5114140961338397, 0.6601314376094256)\n",
      "add 1100 entities, results： (0.47878705601805205, 0.38859520768664735, 0.517097884649542, 0.6654938214173948)\n",
      "add 1200 entities, results： (0.47908339183822085, 0.3893056812511101, 0.5171993808730366, 0.6659928445162436)\n",
      "add 1300 entities, results： (0.4802552226196435, 0.3901768571694395, 0.5185442058343412, 0.6674391657010429)\n",
      "add 1400 entities, results： (0.47969300067214904, 0.38806235251330023, 0.5201681454102562, 0.6689362349975895)\n",
      "add 1500 entities, results： (0.47992033771920617, 0.38819768081129313, 0.5205064661552384, 0.6691138533887052)\n",
      "add 1600 entities, results： (0.4802576905294047, 0.3882738029789142, 0.5211915656638276, 0.6699089071394135)\n",
      "add 1700 entities, results： (0.48066881509040066, 0.3889335284316296, 0.5209039930305926, 0.6704333042941361)\n",
      "add 1800 entities, results： (0.4820834860175451, 0.3897962463313344, 0.5227140090162479, 0.6741040843771938)\n",
      "add 1900 entities, results： (0.4820198671110524, 0.38949175766085037, 0.5229085434446127, 0.6744424051221761)\n",
      "add 2000 entities, results： (0.4824368152264907, 0.38991465859207824, 0.5228747113701144, 0.6745692754015444)\n",
      "add 2100 entities, results： (0.48185352824447114, 0.3891788109717418, 0.5223249401595182, 0.6748568480347794)\n",
      "add 2200 entities, results： (0.4822410142560088, 0.3897624142568362, 0.5224264363830129, 0.6747384357740356)\n",
      "add 2300 entities, results： (0.4823734648169802, 0.3899738647224501, 0.5222572760105217, 0.674729977755411)\n",
      "add 2400 entities, results： (0.4826419200770555, 0.38999078075969923, 0.5233145283385914, 0.6750006343513968)\n",
      "add 2500 entities, results： (0.48265785134470135, 0.39000769679694836, 0.5228662533514898, 0.6745946494574181)\n"
     ]
    }
   ],
   "source": [
    "test_reslut = []\n",
    "add_num =0 \n",
    "test_evaluation = aggrate_and_evaluation()\n",
    "test_reslut.append(test_evaluation)\n",
    "print(\"add\",str(add_num)+\" entities, results：\", test_evaluation)\n",
    "# add entities in turn\n",
    "for add_entity in dev_e2t:\n",
    "    add_num += 1\n",
    "    for triplet in expansion_triple[add_entity]:\n",
    "        h, r, t = triplet\n",
    "        if h == add_entity:\n",
    "            for type_h in dev_e2t[h]:\n",
    "                for type_t in train_e2t[t]:\n",
    "                    if (type_h, r) not in p_h:\n",
    "                        p_h[(type_h, r)] = pd.DataFrame([1],index =[type_t])\n",
    "                    else:\n",
    "                        if type_t not in p_h[(type_h, r)].index:\n",
    "                            p_h[(type_h, r)].loc[type_t] = 1\n",
    "                        else:\n",
    "                            p_h[(type_h, r)].loc[type_t] += 1\n",
    "                            \n",
    "                    if (r, type_t) not in p_t:\n",
    "                        p_t[(r, type_t)] = pd.DataFrame([1],index =[type_h])\n",
    "                    else:\n",
    "                        if type_h not in p_t[(r, type_t)].index:\n",
    "                            p_t[(r, type_t)].loc[type_h] = 1\n",
    "                        else:\n",
    "                            p_t[(r, type_t)].loc[type_h] += 1\n",
    "        if t == add_entity:\n",
    "            for type_h in train_e2t[h]:\n",
    "                for type_t in dev_e2t[t]:\n",
    "                    if (type_h, r) not in p_h:\n",
    "                        p_h[(type_h, r)] = pd.DataFrame([1],index =[type_t])\n",
    "                    else:\n",
    "                        if type_t not in p_h[(type_h, r)].index:\n",
    "                            p_h[(type_h, r)].loc[type_t] = 1\n",
    "                        else:\n",
    "                            p_h[(type_h, r)].loc[type_t] += 1\n",
    "                            \n",
    "                    if (r, type_t) not in p_t:\n",
    "                        p_t[(r, type_t)] = pd.DataFrame([1],index =[type_h])\n",
    "                    else:\n",
    "                        if type_h not in p_t[(r, type_t)].index:\n",
    "                            p_t[(r, type_t)].loc[type_h] = 1\n",
    "                        else:\n",
    "                            p_t[(r, type_t)].loc[type_h] += 1\n",
    "            \n",
    "            \n",
    "                        \n",
    "    for h_r in p_h:\n",
    "        count = sum(p_h[h_r].values).item()\n",
    "        h_count[h_r] = count\n",
    "        \n",
    "    for r_t in p_t:\n",
    "        count = sum(p_t[r_t].values).item()\n",
    "        t_count[r_t] = count\n",
    "        \n",
    "        \n",
    "    if add_num % 100 == 0:\n",
    "        test_evaluation = aggrate_and_evaluation()\n",
    "        test_reslut.append(test_evaluation)\n",
    "        print(\"add\",str(add_num)+\" entities, results：\", test_evaluation)"
   ]
  },
  {
   "cell_type": "code",
   "execution_count": 18,
   "metadata": {},
   "outputs": [
    {
     "data": {
      "text/plain": [
       "[<matplotlib.lines.Line2D at 0x7f043b922ac8>]"
      ]
     },
     "execution_count": 18,
     "metadata": {},
     "output_type": "execute_result"
    },
    {
     "data": {
      "image/png": "[encoded data removed]",
      "text/plain": [
       "<Figure size 432x288 with 1 Axes>"
      ]
     },
     "metadata": {},
     "output_type": "display_data"
    }
   ],
   "source": [
    "result_array = np.array(test_reslut)\n",
    "# np.savetxt('add_val.csv',result_array,delimiter=',')\n",
    "plt.plot([100*i for i in range(0,26)],result_array[:,0])     # plot mrr"
   ]
  },
  {
   "cell_type": "code",
   "execution_count": 19,
   "metadata": {},
   "outputs": [
    {
     "data": {
      "text/plain": [
       "[<matplotlib.lines.Line2D at 0x7f043b8b4240>]"
      ]
     },
     "execution_count": 19,
     "metadata": {},
     "output_type": "execute_result"
    },
    {
     "data": {
      "image/png": "[encoded data removed]",
      "text/plain": [
       "<Figure size 432x288 with 1 Axes>"
      ]
     },
     "metadata": {},
     "output_type": "display_data"
    }
   ],
   "source": [
    "plt.plot([100*i for i in range(0,26)],result_array[:,1])     # plot h@1"
   ]
  },
  {
   "cell_type": "code",
   "execution_count": 20,
   "metadata": {},
   "outputs": [
    {
     "data": {
      "text/plain": [
       "[<matplotlib.lines.Line2D at 0x7f043b80d518>]"
      ]
     },
     "execution_count": 20,
     "metadata": {},
     "output_type": "execute_result"
    },
    {
     "data": {
      "image/png": "[encoded data removed]",
      "text/plain": [
       "<Figure size 432x288 with 1 Axes>"
      ]
     },
     "metadata": {},
     "output_type": "display_data"
    }
   ],
   "source": [
    "plt.plot([100*i for i in range(0,26)],result_array[:,2])     # plot h@3"
   ]
  },
  {
   "cell_type": "code",
   "execution_count": 21,
   "metadata": {},
   "outputs": [
    {
     "data": {
      "text/plain": [
       "[<matplotlib.lines.Line2D at 0x7f043b7dd2b0>]"
      ]
     },
     "execution_count": 21,
     "metadata": {},
     "output_type": "execute_result"
    },
    {
     "data": {
      "image/png": "[encoded data removed]",
      "text/plain": [
       "<Figure size 432x288 with 1 Axes>"
      ]
     },
     "metadata": {},
     "output_type": "display_data"
    }
   ],
   "source": [
    "plt.plot([100*i for i in range(0,26)],result_array[:,3])     # plot h@10"
   ]
  },
  {
   "cell_type": "code",
   "execution_count": null,
   "metadata": {},
   "outputs": [],
   "source": []
  }
 ],
 "metadata": {
  "kernelspec": {
   "display_name": "Python 3",
   "language": "python",
   "name": "python3"
  },
  "language_info": {
   "codemirror_mode": {
    "name": "ipython",
    "version": 3
   },
   "file_extension": ".py",
   "mimetype": "text/x-python",
   "name": "python",
   "nbconvert_exporter": "python",
   "pygments_lexer": "ipython3",
   "version": "3.6.10"
  }
 },
 "nbformat": 4,
 "nbformat_minor": 2
}
